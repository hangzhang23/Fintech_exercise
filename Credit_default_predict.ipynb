{
 "cells": [
  {
   "cell_type": "code",
   "execution_count": 1,
   "metadata": {
    "ExecuteTime": {
     "end_time": "2021-02-01T11:31:55.986588Z",
     "start_time": "2021-02-01T11:31:53.155207Z"
    }
   },
   "outputs": [],
   "source": [
    "import pandas as pd\n",
    "import matplotlib.pyplot as plt\n",
    "import seaborn as sns\n",
    "from sklearn.model_selection import train_test_split\n",
    "from sklearn.svm import SVC\n",
    "from sklearn.tree import DecisionTreeClassifier\n",
    "from sklearn.ensemble import RandomForestClassifier\n",
    "from sklearn.neighbors import KNeighborsClassifier\n",
    "from sklearn.model_selection import GridSearchCV\n",
    "from sklearn.pipeline import Pipeline\n",
    "from sklearn.preprocessing import StandardScaler\n",
    "from sklearn.metrics import accuracy_score"
   ]
  },
  {
   "cell_type": "markdown",
   "metadata": {},
   "source": [
    "## 读取数据"
   ]
  },
  {
   "cell_type": "code",
   "execution_count": 2,
   "metadata": {
    "ExecuteTime": {
     "end_time": "2021-02-01T11:32:10.900751Z",
     "start_time": "2021-02-01T11:32:10.785534Z"
    }
   },
   "outputs": [],
   "source": [
    "data = pd.read_csv('data/credit_default/UCI_Credit_Card.csv')"
   ]
  },
  {
   "cell_type": "markdown",
   "metadata": {},
   "source": [
    "观察class label的样本分布"
   ]
  },
  {
   "cell_type": "code",
   "execution_count": 3,
   "metadata": {
    "ExecuteTime": {
     "end_time": "2021-02-01T11:37:43.509548Z",
     "start_time": "2021-02-01T11:37:43.503564Z"
    }
   },
   "outputs": [],
   "source": [
    "next_month = data['default.payment.next.month'].value_counts()\n",
    "df = pd.DataFrame({'default.payment.next.month':next_month.index, \n",
    "                  'values':next_month.values})"
   ]
  },
  {
   "cell_type": "code",
   "execution_count": 4,
   "metadata": {
    "ExecuteTime": {
     "end_time": "2021-02-01T11:37:46.120319Z",
     "start_time": "2021-02-01T11:37:45.869279Z"
    },
    "scrolled": true
   },
   "outputs": [
    {
     "data": {
      "image/png": "[encoded data removed]",
      "text/plain": [
       "<Figure size 432x288 with 1 Axes>"
      ]
     },
     "metadata": {
      "needs_background": "light"
     },
     "output_type": "display_data"
    }
   ],
   "source": [
    "plt.title('Credit Default')\n",
    "sns.barplot(x='default.payment.next.month', y='values', data=df)\n",
    "plt.show()"
   ]
  },
  {
   "cell_type": "markdown",
   "metadata": {},
   "source": [
    "去除数据集中没用的特征：'ID'，并将数据集分成特征数据和label数据"
   ]
  },
  {
   "cell_type": "code",
   "execution_count": 5,
   "metadata": {
    "ExecuteTime": {
     "end_time": "2021-02-01T11:39:40.096610Z",
     "start_time": "2021-02-01T11:39:40.084643Z"
    }
   },
   "outputs": [],
   "source": [
    "data.drop(['ID'],inplace=True, axis=1)\n",
    "target = data['default.payment.next.month'].values\n",
    "columns = data.columns.tolist()"
   ]
  },
  {
   "cell_type": "code",
   "execution_count": 6,
   "metadata": {
    "ExecuteTime": {
     "end_time": "2021-02-01T11:39:41.627273Z",
     "start_time": "2021-02-01T11:39:41.614308Z"
    }
   },
   "outputs": [],
   "source": [
    "columns.remove('default.payment.next.month')\n",
    "features = data[columns].values"
   ]
  },
  {
   "cell_type": "markdown",
   "metadata": {},
   "source": [
    "## 构建模型\n",
    "分割数据集"
   ]
  },
  {
   "cell_type": "code",
   "execution_count": 7,
   "metadata": {
    "ExecuteTime": {
     "end_time": "2021-02-01T11:40:13.709919Z",
     "start_time": "2021-02-01T11:40:13.693977Z"
    }
   },
   "outputs": [],
   "source": [
    "train_x, test_x, train_y, test_y = train_test_split(features, target, test_size=0.3)"
   ]
  },
  {
   "cell_type": "markdown",
   "metadata": {},
   "source": [
    "构造用于流水线自动训练需要的分类器列表和名字列表"
   ]
  },
  {
   "cell_type": "code",
   "execution_count": 8,
   "metadata": {
    "ExecuteTime": {
     "end_time": "2021-02-01T11:41:54.204206Z",
     "start_time": "2021-02-01T11:41:54.199215Z"
    }
   },
   "outputs": [],
   "source": [
    "# 构造分类器\n",
    "classifiers = [\n",
    "    SVC(),\n",
    "    DecisionTreeClassifier(),\n",
    "    RandomForestClassifier(),\n",
    "    KNeighborsClassifier()\n",
    "]\n",
    "\n",
    "classifier_names = ['svc','decisiontreeclassifier','randomforestclassifier','kneighborsclassifier']"
   ]
  },
  {
   "cell_type": "markdown",
   "metadata": {},
   "source": [
    "设定网格搜索的参数范围"
   ]
  },
  {
   "cell_type": "code",
   "execution_count": 9,
   "metadata": {
    "ExecuteTime": {
     "end_time": "2021-02-01T11:42:12.209655Z",
     "start_time": "2021-02-01T11:42:12.205668Z"
    }
   },
   "outputs": [],
   "source": [
    "classifier_param_grid = [\n",
    "            {'svc__C':[1], 'svc__gamma':[0.01]},\n",
    "            {'decisiontreeclassifier__max_depth':[6,9,11]},\n",
    "            {'randomforestclassifier__n_estimators':[3,5,6]} ,\n",
    "            {'kneighborsclassifier__n_neighbors':[4,6,8]},\n",
    "]"
   ]
  },
  {
   "cell_type": "markdown",
   "metadata": {},
   "source": [
    "调用网格搜索方法自动化训练分类器，并找到最优参数和准确度"
   ]
  },
  {
   "cell_type": "code",
   "execution_count": 10,
   "metadata": {
    "ExecuteTime": {
     "end_time": "2021-02-01T11:43:30.192197Z",
     "start_time": "2021-02-01T11:43:30.186212Z"
    }
   },
   "outputs": [],
   "source": [
    "# 对每个分类器进行参数调优\n",
    "def GridSearchCV_work(pipeline, train_x, train_y, test_x, text_y, model_param_grid , score = 'accuracy'):\n",
    "    gridsearch = GridSearchCV(estimator=pipeline, param_grid=model_param_grid, scoring=score)\n",
    "    # 寻找最优参数和最佳准确率\n",
    "    search = gridsearch.fit(train_x, train_y)\n",
    "    print('GridSearchCV best parameters：', search.best_params_)\n",
    "    print('GridSearchCV best score：', search.best_score_)\n",
    "    predict_y = gridsearch.predict(test_x)\n",
    "    print('accuracy： %0.4lf' % accuracy_score(test_y, predict_y))\n",
    "    \n",
    "    response = {}\n",
    "    response['predict_y'] = predict_y\n",
    "    response['accuracy_score'] = accuracy_score(test_y, predict_y)\n",
    "    return response"
   ]
  },
  {
   "cell_type": "code",
   "execution_count": 11,
   "metadata": {
    "ExecuteTime": {
     "end_time": "2021-02-01T11:46:22.681493Z",
     "start_time": "2021-02-01T11:43:53.981108Z"
    }
   },
   "outputs": [
    {
     "name": "stdout",
     "output_type": "stream",
     "text": [
      "GridSearchCV best parameters： {'svc__C': 1, 'svc__gamma': 0.01}\n",
      "GridSearchCV best score： 0.8121904761904762\n",
      "accuracy： 0.8229\n",
      "GridSearchCV best parameters： {'decisiontreeclassifier__max_depth': 6}\n",
      "GridSearchCV best score： 0.8144285714285715\n",
      "accuracy： 0.8294\n",
      "GridSearchCV best parameters： {'randomforestclassifier__n_estimators': 6}\n",
      "GridSearchCV best score： 0.7955714285714285\n",
      "accuracy： 0.8054\n",
      "GridSearchCV best parameters： {'kneighborsclassifier__n_neighbors': 8}\n",
      "GridSearchCV best score： 0.8\n",
      "accuracy： 0.8101\n"
     ]
    }
   ],
   "source": [
    "for model, model_name, model_param_grid in zip(classifiers, classifier_names, classifier_param_grid):\n",
    "    pipeline = Pipeline([\n",
    "            # 数据做标准化\n",
    "            ('scaler', StandardScaler()),\n",
    "            # 模型拟合\n",
    "            (model_name, model)\n",
    "    ])\n",
    "    result = GridSearchCV_work(pipeline, train_x, train_y, test_x, test_y, model_param_grid , score = 'accuracy')"
   ]
  },
  {
   "cell_type": "code",
   "execution_count": null,
   "metadata": {},
   "outputs": [],
   "source": []
  }
 ],
 "metadata": {
  "kernelspec": {
   "display_name": "rs",
   "language": "python",
   "name": "rs"
  },
  "language_info": {
   "codemirror_mode": {
    "name": "ipython",
    "version": 3
   },
   "file_extension": ".py",
   "mimetype": "text/x-python",
   "name": "python",
   "nbconvert_exporter": "python",
   "pygments_lexer": "ipython3",
   "version": "3.8.5"
  },
  "toc": {
   "base_numbering": 1,
   "nav_menu": {},
   "number_sections": true,
   "sideBar": true,
   "skip_h1_title": false,
   "title_cell": "Table of Contents",
   "title_sidebar": "Contents",
   "toc_cell": false,
   "toc_position": {},
   "toc_section_display": true,
   "toc_window_display": false
  },
  "varInspector": {
   "cols": {
    "lenName": 16,
    "lenType": 16,
    "lenVar": 40
   },
   "kernels_config": {
    "python": {
     "delete_cmd_postfix": "",
     "delete_cmd_prefix": "del ",
     "library": "var_list.py",
     "varRefreshCmd": "print(var_dic_list())"
    },
    "r": {
     "delete_cmd_postfix": ") ",
     "delete_cmd_prefix": "rm(",
     "library": "var_list.r",
     "varRefreshCmd": "cat(var_dic_list()) "
    }
   },
   "types_to_exclude": [
    "module",
    "function",
    "builtin_function_or_method",
    "instance",
    "_Feature"
   ],
   "window_display": false
  }
 },
 "nbformat": 4,
 "nbformat_minor": 4
}
